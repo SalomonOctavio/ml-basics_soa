{
 "cells": [
  {
   "cell_type": "markdown",
   "metadata": {},
   "source": [
    "# Desafío de exploración de datos de vuelos\n",
    "\n",
    "En este desafío, explorará un conjunto de datos del mundo real que contiene datos de vuelos del Departamento de Transporte de EE. UU.\n",
    "\n",
    "Comencemos por cargar y ver los datos."
   ]
  },
  {
   "cell_type": "code",
   "execution_count": 9,
   "metadata": {},
   "outputs": [
    {
     "data": {
      "text/html": [
       "<div>\n",
       "<style scoped>\n",
       "    .dataframe tbody tr th:only-of-type {\n",
       "        vertical-align: middle;\n",
       "    }\n",
       "\n",
       "    .dataframe tbody tr th {\n",
       "        vertical-align: top;\n",
       "    }\n",
       "\n",
       "    .dataframe thead th {\n",
       "        text-align: right;\n",
       "    }\n",
       "</style>\n",
       "<table border=\"1\" class=\"dataframe\">\n",
       "  <thead>\n",
       "    <tr style=\"text-align: right;\">\n",
       "      <th></th>\n",
       "      <th>Year</th>\n",
       "      <th>Month</th>\n",
       "      <th>DayofMonth</th>\n",
       "      <th>DayOfWeek</th>\n",
       "      <th>Carrier</th>\n",
       "      <th>OriginAirportID</th>\n",
       "      <th>OriginAirportName</th>\n",
       "      <th>OriginCity</th>\n",
       "      <th>OriginState</th>\n",
       "      <th>DestAirportID</th>\n",
       "      <th>DestAirportName</th>\n",
       "      <th>DestCity</th>\n",
       "      <th>DestState</th>\n",
       "      <th>CRSDepTime</th>\n",
       "      <th>DepDelay</th>\n",
       "      <th>DepDel15</th>\n",
       "      <th>CRSArrTime</th>\n",
       "      <th>ArrDelay</th>\n",
       "      <th>ArrDel15</th>\n",
       "      <th>Cancelled</th>\n",
       "    </tr>\n",
       "  </thead>\n",
       "  <tbody>\n",
       "    <tr>\n",
       "      <th>0</th>\n",
       "      <td>2013</td>\n",
       "      <td>9</td>\n",
       "      <td>16</td>\n",
       "      <td>1</td>\n",
       "      <td>DL</td>\n",
       "      <td>15304</td>\n",
       "      <td>Tampa International</td>\n",
       "      <td>Tampa</td>\n",
       "      <td>FL</td>\n",
       "      <td>12478</td>\n",
       "      <td>John F. Kennedy International</td>\n",
       "      <td>New York</td>\n",
       "      <td>NY</td>\n",
       "      <td>1539</td>\n",
       "      <td>4</td>\n",
       "      <td>0.0</td>\n",
       "      <td>1824</td>\n",
       "      <td>13</td>\n",
       "      <td>0</td>\n",
       "      <td>0</td>\n",
       "    </tr>\n",
       "    <tr>\n",
       "      <th>1</th>\n",
       "      <td>2013</td>\n",
       "      <td>9</td>\n",
       "      <td>23</td>\n",
       "      <td>1</td>\n",
       "      <td>WN</td>\n",
       "      <td>14122</td>\n",
       "      <td>Pittsburgh International</td>\n",
       "      <td>Pittsburgh</td>\n",
       "      <td>PA</td>\n",
       "      <td>13232</td>\n",
       "      <td>Chicago Midway International</td>\n",
       "      <td>Chicago</td>\n",
       "      <td>IL</td>\n",
       "      <td>710</td>\n",
       "      <td>3</td>\n",
       "      <td>0.0</td>\n",
       "      <td>740</td>\n",
       "      <td>22</td>\n",
       "      <td>1</td>\n",
       "      <td>0</td>\n",
       "    </tr>\n",
       "    <tr>\n",
       "      <th>2</th>\n",
       "      <td>2013</td>\n",
       "      <td>9</td>\n",
       "      <td>7</td>\n",
       "      <td>6</td>\n",
       "      <td>AS</td>\n",
       "      <td>14747</td>\n",
       "      <td>Seattle/Tacoma International</td>\n",
       "      <td>Seattle</td>\n",
       "      <td>WA</td>\n",
       "      <td>11278</td>\n",
       "      <td>Ronald Reagan Washington National</td>\n",
       "      <td>Washington</td>\n",
       "      <td>DC</td>\n",
       "      <td>810</td>\n",
       "      <td>-3</td>\n",
       "      <td>0.0</td>\n",
       "      <td>1614</td>\n",
       "      <td>-7</td>\n",
       "      <td>0</td>\n",
       "      <td>0</td>\n",
       "    </tr>\n",
       "    <tr>\n",
       "      <th>3</th>\n",
       "      <td>2013</td>\n",
       "      <td>7</td>\n",
       "      <td>22</td>\n",
       "      <td>1</td>\n",
       "      <td>OO</td>\n",
       "      <td>13930</td>\n",
       "      <td>Chicago O'Hare International</td>\n",
       "      <td>Chicago</td>\n",
       "      <td>IL</td>\n",
       "      <td>11042</td>\n",
       "      <td>Cleveland-Hopkins International</td>\n",
       "      <td>Cleveland</td>\n",
       "      <td>OH</td>\n",
       "      <td>804</td>\n",
       "      <td>35</td>\n",
       "      <td>1.0</td>\n",
       "      <td>1027</td>\n",
       "      <td>33</td>\n",
       "      <td>1</td>\n",
       "      <td>0</td>\n",
       "    </tr>\n",
       "    <tr>\n",
       "      <th>4</th>\n",
       "      <td>2013</td>\n",
       "      <td>5</td>\n",
       "      <td>16</td>\n",
       "      <td>4</td>\n",
       "      <td>DL</td>\n",
       "      <td>13931</td>\n",
       "      <td>Norfolk International</td>\n",
       "      <td>Norfolk</td>\n",
       "      <td>VA</td>\n",
       "      <td>10397</td>\n",
       "      <td>Hartsfield-Jackson Atlanta International</td>\n",
       "      <td>Atlanta</td>\n",
       "      <td>GA</td>\n",
       "      <td>545</td>\n",
       "      <td>-1</td>\n",
       "      <td>0.0</td>\n",
       "      <td>728</td>\n",
       "      <td>-9</td>\n",
       "      <td>0</td>\n",
       "      <td>0</td>\n",
       "    </tr>\n",
       "  </tbody>\n",
       "</table>\n",
       "</div>"
      ],
      "text/plain": [
       "   Year  Month  DayofMonth  DayOfWeek Carrier  OriginAirportID  \\\n",
       "0  2013      9          16          1      DL            15304   \n",
       "1  2013      9          23          1      WN            14122   \n",
       "2  2013      9           7          6      AS            14747   \n",
       "3  2013      7          22          1      OO            13930   \n",
       "4  2013      5          16          4      DL            13931   \n",
       "\n",
       "              OriginAirportName  OriginCity OriginState  DestAirportID  \\\n",
       "0           Tampa International       Tampa          FL          12478   \n",
       "1      Pittsburgh International  Pittsburgh          PA          13232   \n",
       "2  Seattle/Tacoma International     Seattle          WA          11278   \n",
       "3  Chicago O'Hare International     Chicago          IL          11042   \n",
       "4         Norfolk International     Norfolk          VA          10397   \n",
       "\n",
       "                            DestAirportName    DestCity DestState  CRSDepTime  \\\n",
       "0             John F. Kennedy International    New York        NY        1539   \n",
       "1              Chicago Midway International     Chicago        IL         710   \n",
       "2         Ronald Reagan Washington National  Washington        DC         810   \n",
       "3           Cleveland-Hopkins International   Cleveland        OH         804   \n",
       "4  Hartsfield-Jackson Atlanta International     Atlanta        GA         545   \n",
       "\n",
       "   DepDelay  DepDel15  CRSArrTime  ArrDelay  ArrDel15  Cancelled  \n",
       "0         4       0.0        1824        13         0          0  \n",
       "1         3       0.0         740        22         1          0  \n",
       "2        -3       0.0        1614        -7         0          0  \n",
       "3        35       1.0        1027        33         1          0  \n",
       "4        -1       0.0         728        -9         0          0  "
      ]
     },
     "execution_count": 9,
     "metadata": {},
     "output_type": "execute_result"
    }
   ],
   "source": [
    "import pandas as pd\n",
    "\n",
    "df_flights = pd.read_csv('data/flights.csv')\n",
    "df_flights.head()"
   ]
  },
  {
   "cell_type": "markdown",
   "metadata": {},
   "source": [
    "El conjunto de datos contiene observaciones de vuelos nacionales de EE. UU. en 2013 y consta de los siguientes campos:\n",
    "\n",
    "- **Year**: El año del vuelo (todos los registros son de 2013)\n",
    "- **Month**: El mes del vuelo\n",
    "- **DayofMonth**: El día del mes en que salió el vuelo\n",
    "- **DayOfWeek**: El día de la semana en que salió el vuelo - del 1 (lunes) al 7 (domingo)\n",
    "- **Carrier**: La abreviatura de dos letras de la aerolínea.\n",
    "- **OriginAirportID**: Un identificador numérico único para el aeropuerto de salida\n",
    "- **OriginAirportName**: El nombre completo del aeropuerto de salida\n",
    "- **OriginCity**: La ciudad del aeropuerto de salida\n",
    "- **OriginState**: El estado del aeropuerto de salida\n",
    "- **DestAirportID**: un identificador numérico único para el aeropuerto de destino\n",
    "- **DestAirportName**: El nombre completo del aeropuerto de destino\n",
    "- **DestCity**: La ciudad del aeropuerto de destino\n",
    "- **DestState**: El estado del aeropuerto de destino\n",
    "- **CRSDepTime**: La hora de salida programada\n",
    "- **DepDelay**: La cantidad de minutos que se retrasó la salida (el vuelo que salió antes de lo previsto tiene un valor negativo)\n",
    "- **DelDelay15**: Un indicador binario de que la salida se retrasó más de 15 minutos (y por lo tanto se consideró \"tarde\")\n",
    "- **CRSArrTime**: La hora de llegada programada\n",
    "- **ArrDelay**: La cantidad de minutos que se retrasó la llegada (el vuelo que llegó antes de lo previsto tiene un valor negativo)\n",
    "- **ArrDelay15**: un indicador binario de que la llegada se retrasó más de 15 minutos (y por lo tanto se consideró \"tarde\")\n",
    "- **Cancelled**: Un indicador binario de que el vuelo fue cancelado\n",
    "\n",
    "Tu reto es explorar los datos de vuelo para analizar los posibles factores que inciden en los retrasos en la salida o llegada de un vuelo.\n",
    "\n",
    "1. Comience por limpiar los datos.\n",
    "    - Identificar cualquier dato nulo o faltante e imputar valores de reemplazo apropiados.\n",
    "    - Identifique y elimine cualquier valor atípico en las columnas **DepDelay** y **ArrDelay**.\n",
    "2. Explore los datos limpios.\n",
    "    - Ver estadísticas de resumen para los campos numéricos en el conjunto de datos.\n",
    "    - Determinar la distribución de las columnas **DepDelay** y **ArrDelay**.\n",
    "    - Use estadísticas, funciones agregadas y visualizaciones para responder las siguientes preguntas:\n",
    "        - *¿Cuáles son los retrasos promedio (promedio) de salida y llegada?*\n",
    "        - *¿Cómo se comparan los transportistas en términos de rendimiento de retrasos en la llegada?*\n",
    "        - *¿Hay una diferencia notable en los retrasos de llegada para los diferentes días de la semana?*\n",
    "        - *¿Qué aeropuerto de salida tiene el promedio de retraso de salida más alto?*\n",
    "        - *¿Las salidas **late** tienden a provocar retrasos de llegada más prolongados que las salidas puntuales?*\n",
    "        - *¿Qué ruta (del aeropuerto de origen al aeropuerto de destino) tiene más llegadas **late**?*\n",
    "        - *¿Qué ruta tiene el promedio de retraso de llegada más alto?*\n",
    "        \n",
    "Agregue celdas de descuento y código según sea necesario para crear su solución.\n",
    "\n",
    "> **Nota**: No existe una única solución \"correcta\". Se proporciona una solución de muestra en [01 - Flight Challenge.ipynb](01%20-%20Flights%20Solution.ipynb)."
   ]
  },
  {
   "cell_type": "markdown",
   "metadata": {},
   "source": [
    "\n",
    "Usando el procedimiento propuesto en el link [Link](https://www.miamioh.edu/cads/students/coding-tutorials/python/data-cleaning/index.html).\n",
    "# Comprension de los datos.\n",
    "Antes de limpiar los datos, hay un par de cosas que nos gustaría saber: por ejemplo, las dimensiones de un conjunto de datos, el tipo de datos de cada variable, tal vez un vistazo a las primeras filas y las últimas filas de los datos (para ver cómo se ve y confirmar que coincide con nuestras expectativas), el nombre de cada variable, etc."
   ]
  },
  {
   "cell_type": "markdown",
   "metadata": {},
   "source": [
    "Código|Descripción|Ejemplo\n",
    "------|-----------|-------\n",
    "df.shape|imension del conjunto de datos <fila, columnas> (df.shape)|df_flights.shape\n",
    "df.shape[0]|Cantidad de filas|df_flights.shape[0]\n",
    "df.shape[1]|Cantidad de columnas|df_flights.shape[1]\n",
    "df.dtypes|Ver los tipos de datos para cada columna|df_flights.dtypes\n",
    "df.head()|Muestra las primeras cinco filas|df_flights.head()\n",
    "df.tail()|Muestra las últimas cinco filas|df_flights.tail()\n",
    "df.columns.values|Devolver una matriz de nombre de columna|df_flights.columns.values\n",
    "df.columns.values.tolist()|Devuelve una lista de nombres de columna|df_flights.columns.values.tolist()"
   ]
  },
  {
   "cell_type": "code",
   "execution_count": 77,
   "metadata": {},
   "outputs": [
    {
     "data": {
      "text/plain": [
       "(271940, 20)"
      ]
     },
     "execution_count": 77,
     "metadata": {},
     "output_type": "execute_result"
    }
   ],
   "source": [
    "# Ejecuta el ejemplo...\n",
    "df_flights.shape"
   ]
  },
  {
   "cell_type": "markdown",
   "metadata": {},
   "source": [
    "# Verificación de valores faltantes.\n",
    "A continuación, nos gustaría comprobar si faltan valores. Para verificar esto, podemos usar la función **dataframe.isnull()** en pandas. Regresará *True* por componentes faltantes y *False* por celdas que no falten. Sin embargo, cuando la dimensión de un conjunto de datos es grande, podría ser difícil determinar la existencia de valores faltantes. En general, es posible que solo queramos saber si falta algún valor antes de intentar encontrar dónde están. La función **dataframe.isnull().values.any()** devuelve *True* cuando falta al menos un valor en los datos. La función **dataframe.isnull().sum().sum()** devuelve el número de valores faltantes en el conjunto de datos."
   ]
  },
  {
   "cell_type": "markdown",
   "metadata": {},
   "source": [
    "Código|Descripción|Ejemplo\n",
    "------|-----------|-------\n",
    "df.isnull()|Devuelve el Df con, *True* si el valor en esa celda es nulo, y *False* si el valor es no nulo..|df_flights.isnull()\n",
    "df.notnull()|Devuelve el Df con, *True* si el valor en esa celda es no nulo y *False* si el valor es nulo.|df_flights.notnull()\n",
    "df.isnull().values.any()|Devuelve *True* si al verifica en el df, encuentra al menos un valor nulo.|df_flights.isnull().values.any()\n",
    "df.isnull().sum().sum()|Devuelve la cantidad total de *true* en el DF|df_flights.isnull().sum().sum()\n",
    "df.isnull().sum()|Devuelve la cantidad de *True* por columna|df_flights.isnull().sum()\n",
    "df[df[\"NombreColumna\"].<not/is>null()]|Devuelve las filas donde la columna \"NombreColumna\" es o no es nula|df_flights[df_flights[\"DepDel15\"].isnull()]"
   ]
  },
  {
   "cell_type": "code",
   "execution_count": 94,
   "metadata": {},
   "outputs": [
    {
     "data": {
      "text/plain": [
       "Year                 0\n",
       "Month                0\n",
       "DayofMonth           0\n",
       "DayOfWeek            0\n",
       "Carrier              0\n",
       "OriginAirportID      0\n",
       "OriginAirportName    0\n",
       "OriginCity           0\n",
       "OriginState          0\n",
       "DestAirportID        0\n",
       "DestAirportName      0\n",
       "DestCity             0\n",
       "DestState            0\n",
       "CRSDepTime           0\n",
       "DepDelay             0\n",
       "DepDel15             0\n",
       "CRSArrTime           0\n",
       "ArrDelay             0\n",
       "ArrDel15             0\n",
       "Cancelled            0\n",
       "dtype: int64"
      ]
     },
     "execution_count": 94,
     "metadata": {},
     "output_type": "execute_result"
    }
   ],
   "source": [
    "# Ejecuta el ejemplo...\n",
    "#df_flights.isnull().sum().sum()\n",
    "df_flights.isnull().sum()"
   ]
  },
  {
   "cell_type": "markdown",
   "metadata": {},
   "source": [
    "# obtenga información sobre los valores faltantes\n",
    "Podríamos dividir los datos en función de los valores faltantes y crear un nuevo marco de datos para contener todas las filas.\n",
    "Código|Descripción|Ejemplo\n",
    "------|-----------|-------\n",
    "no_missing = df.dropna()|Crea DF 'no_missing' sin las filas que contienen valores nulos|no_missing = df_flights.dropna(), #print(no_missing), #no_missing.head(), no_missing.shape\n",
    "no_missing = no_missing.reset_index(drop=True)|Restablecer el índice del DF no_missing después de haber eliminado filas con valores nulos.|no_missing = no_missing.reset_index(drop=True)\n"
   ]
  },
  {
   "cell_type": "code",
   "execution_count": 93,
   "metadata": {},
   "outputs": [
    {
     "data": {
      "text/plain": [
       "(269179, 20)"
      ]
     },
     "execution_count": 93,
     "metadata": {},
     "output_type": "execute_result"
    }
   ],
   "source": [
    "#no_missing = df_flights.dropna()\n",
    "#print(no_missing)\n",
    "#no_missing.head()\n",
    "#no_missing.shape\n",
    "#no_missing = no_missing.reset_index(drop=True)\n",
    "no_missing.shape"
   ]
  },
  {
   "cell_type": "markdown",
   "metadata": {},
   "source": [
    "También puede establecer un umbral de valores perdidos. En el siguiente ejemplo, descarta filas que contienen menos de 20 valores no faltantes, es decir, si hay 20 valores no nulos mantiene la fila, si tiene menos de 20 la elimina. Considero que son 20 columnas."
   ]
  },
  {
   "cell_type": "markdown",
   "metadata": {},
   "source": [
    "Código|Descripción|Ejemplo\n",
    "------|-----------|-------\n",
    "Threshold_missing = df.dropna(thresh=x)|Elimina las filas que poseen menos de 'x' valore no nulos|threshold_missing = df_flights.dropna(thresh=20)"
   ]
  },
  {
   "cell_type": "code",
   "execution_count": 75,
   "metadata": {},
   "outputs": [
    {
     "data": {
      "text/plain": [
       "(269179, 20)"
      ]
     },
     "execution_count": 75,
     "metadata": {},
     "output_type": "execute_result"
    }
   ],
   "source": [
    "threshold_missing = df_flights.dropna(thresh=20)\n",
    "#threshold_missing.isnull().sum()\n",
    "#threshold_missing.head()\n",
    "threshold_missing.shape"
   ]
  },
  {
   "cell_type": "markdown",
   "metadata": {},
   "source": [
    "Si usamos dataframe.dropna(thresh=20) para colocar filas que contienen menos de 20 valores no faltantes, no cambiamos los datos originales. Podemos asignar la salida a una nueva variable o guardar los cambios en los datos originales de inmediato usando dataframe.dropna(thresh=20, inplace=True) . Para nuestro ejemplo, sería df.dropna(thresh=20, inplace=True)."
   ]
  },
  {
   "cell_type": "markdown",
   "metadata": {},
   "source": [
    "# Complete los valores que faltan\n",
    "Para las variables cuantitativas, podemos reemplazar los valores faltantes con la media de la muestra, la moda, la mediana u otros números. Para las variables categóricas, podemos crear una nueva categoría para los valores perdidos reemplazando los valores perdidos con una cadena.\n",
    "\n",
    "Reemplace los valores faltantes con 0."
   ]
  },
  {
   "cell_type": "markdown",
   "metadata": {},
   "source": [
    "Código|Descripción|Ejemplo\n",
    "------|-----------|-------\n",
    "Fill_no = df.fillna(0)| completa lo faltan con '0' y guarda en df Fill_no|Fill_no = df_flights.fillna(0)\n",
    "df['DataFrame Columna'] = df['DataFrame Columna'].fillna(0)|Completa lo que falta en una columna en especifico|df_flights['DepDel15']=df_flights['DepDel15'].fillna(0)"
   ]
  },
  {
   "cell_type": "code",
   "execution_count": null,
   "metadata": {},
   "outputs": [],
   "source": [
    "#Fill_no = df_flights.fillna(0)\n",
    "#Fill_no.shape\n",
    "#Fill_no.isnull().sum()\n",
    "#df_flights['DepDel15']=df_flights['DepDel15'].fillna(0)\n"
   ]
  },
  {
   "cell_type": "markdown",
   "metadata": {},
   "source": [
    "Reemplace todo lo que falta con la cadena que falta."
   ]
  },
  {
   "cell_type": "code",
   "execution_count": null,
   "metadata": {},
   "outputs": [],
   "source": [
    "#df.fillna(\"missing\") fill in missing with a string: \"missing\" and the data to Fill_srt\n",
    "#df[\"NombreColumna\"].fillna(df[\"nombreColumna\"].mean(), inplace=True) #fill missing values with the sample mean"
   ]
  },
  {
   "cell_type": "markdown",
   "metadata": {},
   "source": [
    "# Descartar datos\n",
    "Es posible que deseemos eliminar las filas duplicadas, si las hay, y guardar los cambios en los datos originales."
   ]
  },
  {
   "cell_type": "code",
   "execution_count": null,
   "metadata": {},
   "outputs": [],
   "source": [
    "#df.drop_duplicates(inplace=True)"
   ]
  },
  {
   "cell_type": "markdown",
   "metadata": {},
   "source": [
    "También es posible que deseemos eliminar algunas observaciones o algunas columnas."
   ]
  },
  {
   "cell_type": "code",
   "execution_count": null,
   "metadata": {},
   "outputs": [],
   "source": [
    "#df = df.drop(df.index[[1,1,3]]) Drow the first second and third row\n",
    "#df = df.drop(df.index[(1,11)]) Drow the 2nd to the 10th row\n",
    "#df.drop([\"NombreColumna\"], axis = 1) Drop the NombreColumna column from the data\n",
    "#df.drop([[\"NombreColumna\", \"NombreColumna2\"]], axis = 1) Drop the height and season columns from the dataset"
   ]
  },
  {
   "cell_type": "markdown",
   "metadata": {},
   "source": [
    "# creación de subconjuntos\n",
    "iloc significa ubicación de enteros. Ayuda a crear subconjuntos de datos mediante el uso de números enteros. Su equivalente loc usa cadenas para encontrar datos dentro de su conjunto de datos."
   ]
  },
  {
   "cell_type": "code",
   "execution_count": null,
   "metadata": {},
   "outputs": [],
   "source": [
    "df.iloc[0] Show the first row of information\n",
    "df.iloc[[0,1,2]] show the first second and third row\n",
    "df.iloc[:,0] print the first column\n",
    "df.iloc[:,0:5] print the first columns\n",
    "df.iloc[0:5,0:3] a subset of the first 3 columns and 5 rows\n",
    "df.loc[0] show the first rows\n",
    "df.[[\"NombreColumna\",\"NombreColumna1\",\"NombreColumna2\"]] Subset of NombreColumna NombreColumna1 and NombreColumna2.\n",
    "df.sample(n=100) #Random sample of 100 rows\n",
    "df.sample(frac=0.1, replace=True) A random sample of 10% of the data with replacement"
   ]
  }
 ],
 "metadata": {
  "kernelspec": {
   "display_name": "env",
   "language": "python",
   "name": "python3"
  },
  "language_info": {
   "codemirror_mode": {
    "name": "ipython",
    "version": 3
   },
   "file_extension": ".py",
   "mimetype": "text/x-python",
   "name": "python",
   "nbconvert_exporter": "python",
   "pygments_lexer": "ipython3",
   "version": "3.7.9"
  }
 },
 "nbformat": 4,
 "nbformat_minor": 4
}
